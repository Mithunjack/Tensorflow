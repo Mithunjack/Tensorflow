{
  "nbformat": 4,
  "nbformat_minor": 0,
  "metadata": {
    "colab": {
      "name": "Data Mining assignment - 1",
      "provenance": [],
      "collapsed_sections": [],
      "authorship_tag": "ABX9TyN0YgRI/gz9u5vVyZTF0ebk",
      "include_colab_link": true
    },
    "kernelspec": {
      "name": "python3",
      "display_name": "Python 3"
    }
  },
  "cells": [
    {
      "cell_type": "markdown",
      "metadata": {
        "id": "view-in-github",
        "colab_type": "text"
      },
      "source": [
        "<a href=\"https://colab.research.google.com/github/Mithunjack/Tensorflow/blob/master/Data_Mining_assignment_1.ipynb\" target=\"_parent\"><img src=\"https://colab.research.google.com/assets/colab-badge.svg\" alt=\"Open In Colab\"/></a>"
      ]
    },
    {
      "cell_type": "code",
      "metadata": {
        "id": "-MHSmF6msIUZ"
      },
      "source": [
        "import numpy as np\n",
        "import pandas as pd"
      ],
      "execution_count": null,
      "outputs": []
    },
    {
      "cell_type": "code",
      "metadata": {
        "id": "OdEJF5XssYl8"
      },
      "source": [
        "#Read_Data\n",
        "givenData = pd.read_csv('toy-example.csv')"
      ],
      "execution_count": null,
      "outputs": []
    },
    {
      "cell_type": "code",
      "metadata": {
        "id": "DJk0pE4isj9U"
      },
      "source": [
        "def pearsonCoCalculation(weight,height):\n",
        "  weight,height = np.array(weight), np.array(height)\n",
        "  if weight.size == height.size:\n",
        "      result = (np.sum(weight*height) - weight.size*weight.mean()*height.mean())/ (weight.size * weight.std() * height.std())   \n",
        "  return result"
      ],
      "execution_count": null,
      "outputs": []
    },
    {
      "cell_type": "markdown",
      "metadata": {
        "id": "In2g-Zqzvhua"
      },
      "source": [
        ""
      ]
    },
    {
      "cell_type": "code",
      "metadata": {
        "colab": {
          "base_uri": "https://localhost:8080/"
        },
        "id": "amjcTAQ1uThV",
        "outputId": "8a41a4a2-da2e-47a6-8def-d92c8567b8e8"
      },
      "source": [
        "result = pearsonCoCalculation(givenData['Weight'].values,givenData['Height'].values)\n",
        "print(\"Pearson correlation coefficient of the attributes height and weight: \",result)\n",
        "\n"
      ],
      "execution_count": null,
      "outputs": [
        {
          "output_type": "stream",
          "text": [
            "Pearson correlation coefficient of the attributes height and weight:  -0.19665126571812014\n"
          ],
          "name": "stdout"
        }
      ]
    },
    {
      "cell_type": "code",
      "metadata": {
        "id": "GDjpcc-yzAe6"
      },
      "source": [
        "def minmax(scaleValues,min,max):\n",
        "  scaleValues = np.array(scaleValues)\n",
        "  scale=(scaleValues-scaleValues.min()) / (scaleValues.max()-scaleValues.min())\n",
        "  scale = scale * (max-min) + min\n",
        "  return scale\n"
      ],
      "execution_count": null,
      "outputs": []
    },
    {
      "cell_type": "code",
      "metadata": {
        "colab": {
          "base_uri": "https://localhost:8080/"
        },
        "id": "2R2uDED61oAa",
        "outputId": "bb0a88aa-d2bb-4d35-b3a7-0998ea83893a"
      },
      "source": [
        "newWeight = minmax(givenData['Weight'].values, 0 , 1)\n",
        "newHeight = minmax(givenData['Height'].values,0 ,1)\n",
        "\n",
        "result = pearsonCoCalculation(newWeight,newHeight)\n",
        "print(\"Result after minmax normalization : \",result)\n",
        "\n",
        "# Yes after scaling the value changed. \n",
        "\n",
        "\n",
        "# # For Practice with corr\n",
        "result = givenData.corr(method='pearson',min_periods = 0)\n",
        "print(\"Pearson correlation coefficient of the attributes height and weight: \",result)\n",
        "\n"
      ],
      "execution_count": null,
      "outputs": [
        {
          "output_type": "stream",
          "text": [
            "Result after minmax normalization :  -0.19665126571813593\n",
            "Pearson correlation coefficient of the attributes height and weight:                ID    Height    Weight\n",
            "ID      1.000000 -0.255389  0.278759\n",
            "Height -0.255389  1.000000 -0.196651\n",
            "Weight  0.278759 -0.196651  1.000000\n"
          ],
          "name": "stdout"
        }
      ]
    }
  ]
}